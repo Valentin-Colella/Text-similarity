{
  "cells": [
    {
      "metadata": {
        "id": "7ikdMD0tY61A"
      },
      "cell_type": "markdown",
      "source": [
        "### Notebook para buscar utterances similares. Se importa un archivo que contiene utterances de los cuales se quiere buscar parecidos y otro en el que se buscan.\n"
      ]
    },
    {
      "metadata": {
        "id": "0tVlQ2UuY61X"
      },
      "cell_type": "code",
      "source": [
        "archivo_csv_importar = 'IR_portabilidad.csv' #este archivo debería contener utterances de los cuales se quiere buscar similares\n",
        "nombreColumnaTexto = \"utterances\" #indicar el nombre de la columna que contiene los utterances\n",
        "\n",
        "archivo_csv_importar_ = ' ' #archivo que contiene los utterances sobre los que se quiere buscar\n",
        "nombreColumnaTexto_ = \" \" #indicar el nombre de la columna que contiene los utterances\n",
        "\n"
      ],
      "execution_count": null,
      "outputs": []
    },
    {
      "metadata": {
        "id": "xhS-X0N5Y61a"
      },
      "cell_type": "code",
      "source": [
        "import pandas as pd\n",
        "import numpy as np\n",
        "from datetime import datetime, timedelta\n",
        "# import random \n",
        "from random import sample\n",
        "import os, ibm_db, ibm_db_dbi as dbi\n",
        "import operator\n",
        "from collections import Counter\n",
        "import string\n",
        "import re\n",
        "\n",
        "pd.set_option(\"display.max_rows\", 600)\n",
        "pd.set_option(\"display.max_columns\", 500)\n",
        "pd.set_option(\"max_colwidth\", 400)"
      ],
      "execution_count": null,
      "outputs": []
    },
    {
      "metadata": {
        "id": "KDRBqzX6Y61d",
        "outputId": "3a860e74-fb77-43bc-a91f-1e52a4b3b33d"
      },
      "cell_type": "code",
      "source": [
        "pip install transformers==4.15.0"
      ],
      "execution_count": null,
      "outputs": [
        {
          "output_type": "stream",
          "text": "Requirement already satisfied: transformers==4.15.0 in /opt/conda/envs/Python-3.9-CUDA/lib/python3.9/site-packages (4.15.0)\nRequirement already satisfied: sacremoses in /opt/conda/envs/Python-3.9-CUDA/lib/python3.9/site-packages (from transformers==4.15.0) (0.0.49)\nRequirement already satisfied: pyyaml>=5.1 in /opt/conda/envs/Python-3.9-CUDA/lib/python3.9/site-packages (from transformers==4.15.0) (5.4.1)\nRequirement already satisfied: tqdm>=4.27 in /opt/conda/envs/Python-3.9-CUDA/lib/python3.9/site-packages (from transformers==4.15.0) (4.62.3)\nRequirement already satisfied: huggingface-hub<1.0,>=0.1.0 in /opt/conda/envs/Python-3.9-CUDA/lib/python3.9/site-packages (from transformers==4.15.0) (0.12.0)\nRequirement already satisfied: tokenizers<0.11,>=0.10.1 in /opt/conda/envs/Python-3.9-CUDA/lib/python3.9/site-packages (from transformers==4.15.0) (0.10.3)\nRequirement already satisfied: regex!=2019.12.17 in /opt/conda/envs/Python-3.9-CUDA/lib/python3.9/site-packages (from transformers==4.15.0) (2021.11.2)\nRequirement already satisfied: requests in /opt/conda/envs/Python-3.9-CUDA/lib/python3.9/site-packages (from transformers==4.15.0) (2.26.0)\nRequirement already satisfied: numpy>=1.17 in /opt/conda/envs/Python-3.9-CUDA/lib/python3.9/site-packages (from transformers==4.15.0) (1.20.3)\nRequirement already satisfied: filelock in /opt/conda/envs/Python-3.9-CUDA/lib/python3.9/site-packages (from transformers==4.15.0) (3.6.0)\nRequirement already satisfied: packaging>=20.0 in /opt/conda/envs/Python-3.9-CUDA/lib/python3.9/site-packages (from transformers==4.15.0) (21.3)\nRequirement already satisfied: typing-extensions>=3.7.4.3 in /opt/conda/envs/Python-3.9-CUDA/lib/python3.9/site-packages (from huggingface-hub<1.0,>=0.1.0->transformers==4.15.0) (4.1.1)\nRequirement already satisfied: pyparsing!=3.0.5,>=2.0.2 in /opt/conda/envs/Python-3.9-CUDA/lib/python3.9/site-packages (from packaging>=20.0->transformers==4.15.0) (3.0.4)\nRequirement already satisfied: charset-normalizer~=2.0.0 in /opt/conda/envs/Python-3.9-CUDA/lib/python3.9/site-packages (from requests->transformers==4.15.0) (2.0.4)\nRequirement already satisfied: idna<4,>=2.5 in /opt/conda/envs/Python-3.9-CUDA/lib/python3.9/site-packages (from requests->transformers==4.15.0) (3.3)\nRequirement already satisfied: urllib3<1.27,>=1.21.1 in /opt/conda/envs/Python-3.9-CUDA/lib/python3.9/site-packages (from requests->transformers==4.15.0) (1.26.7)\nRequirement already satisfied: certifi>=2017.4.17 in /opt/conda/envs/Python-3.9-CUDA/lib/python3.9/site-packages (from requests->transformers==4.15.0) (2022.12.7)\nRequirement already satisfied: click in /opt/conda/envs/Python-3.9-CUDA/lib/python3.9/site-packages (from sacremoses->transformers==4.15.0) (8.0.4)\nRequirement already satisfied: six in /opt/conda/envs/Python-3.9-CUDA/lib/python3.9/site-packages (from sacremoses->transformers==4.15.0) (1.15.0)\nRequirement already satisfied: joblib in /opt/conda/envs/Python-3.9-CUDA/lib/python3.9/site-packages (from sacremoses->transformers==4.15.0) (0.17.0)\nNote: you may need to restart the kernel to use updated packages.\n",
          "name": "stdout"
        }
      ]
    },
    {
      "metadata": {
        "id": "6B0ExQAtY61g",
        "outputId": "5972b501-5deb-469f-e797-6c36fb960d82"
      },
      "cell_type": "code",
      "source": [
        "pip install -U sentence-transformers #instalar librería para vectorizar textos con modelos preentrenados"
      ],
      "execution_count": null,
      "outputs": [
        {
          "output_type": "stream",
          "text": "Requirement already satisfied: sentence-transformers in /opt/conda/envs/Python-3.9-CUDA/lib/python3.9/site-packages (2.2.2)\nRequirement already satisfied: sentencepiece in /opt/conda/envs/Python-3.9-CUDA/lib/python3.9/site-packages (from sentence-transformers) (0.1.96)\nRequirement already satisfied: tqdm in /opt/conda/envs/Python-3.9-CUDA/lib/python3.9/site-packages (from sentence-transformers) (4.62.3)\nRequirement already satisfied: torchvision in /opt/conda/envs/Python-3.9-CUDA/lib/python3.9/site-packages (from sentence-transformers) (0.11.3)\nRequirement already satisfied: scipy in /opt/conda/envs/Python-3.9-CUDA/lib/python3.9/site-packages (from sentence-transformers) (1.7.3)\nRequirement already satisfied: torch>=1.6.0 in /opt/conda/envs/Python-3.9-CUDA/lib/python3.9/site-packages (from sentence-transformers) (1.10.2)\nRequirement already satisfied: numpy in /opt/conda/envs/Python-3.9-CUDA/lib/python3.9/site-packages (from sentence-transformers) (1.20.3)\nRequirement already satisfied: scikit-learn in /opt/conda/envs/Python-3.9-CUDA/lib/python3.9/site-packages (from sentence-transformers) (1.0.2)\nRequirement already satisfied: nltk in /opt/conda/envs/Python-3.9-CUDA/lib/python3.9/site-packages (from sentence-transformers) (3.8.1)\nRequirement already satisfied: huggingface-hub>=0.4.0 in /opt/conda/envs/Python-3.9-CUDA/lib/python3.9/site-packages (from sentence-transformers) (0.12.0)\nRequirement already satisfied: transformers<5.0.0,>=4.6.0 in /opt/conda/envs/Python-3.9-CUDA/lib/python3.9/site-packages (from sentence-transformers) (4.15.0)\nRequirement already satisfied: requests in /opt/conda/envs/Python-3.9-CUDA/lib/python3.9/site-packages (from huggingface-hub>=0.4.0->sentence-transformers) (2.26.0)\nRequirement already satisfied: typing-extensions>=3.7.4.3 in /opt/conda/envs/Python-3.9-CUDA/lib/python3.9/site-packages (from huggingface-hub>=0.4.0->sentence-transformers) (4.1.1)\nRequirement already satisfied: packaging>=20.9 in /opt/conda/envs/Python-3.9-CUDA/lib/python3.9/site-packages (from huggingface-hub>=0.4.0->sentence-transformers) (21.3)\nRequirement already satisfied: filelock in /opt/conda/envs/Python-3.9-CUDA/lib/python3.9/site-packages (from huggingface-hub>=0.4.0->sentence-transformers) (3.6.0)\nRequirement already satisfied: pyyaml>=5.1 in /opt/conda/envs/Python-3.9-CUDA/lib/python3.9/site-packages (from huggingface-hub>=0.4.0->sentence-transformers) (5.4.1)\nRequirement already satisfied: pyparsing!=3.0.5,>=2.0.2 in /opt/conda/envs/Python-3.9-CUDA/lib/python3.9/site-packages (from packaging>=20.9->huggingface-hub>=0.4.0->sentence-transformers) (3.0.4)\nRequirement already satisfied: sacremoses in /opt/conda/envs/Python-3.9-CUDA/lib/python3.9/site-packages (from transformers<5.0.0,>=4.6.0->sentence-transformers) (0.0.49)\nRequirement already satisfied: tokenizers<0.11,>=0.10.1 in /opt/conda/envs/Python-3.9-CUDA/lib/python3.9/site-packages (from transformers<5.0.0,>=4.6.0->sentence-transformers) (0.10.3)\nRequirement already satisfied: regex!=2019.12.17 in /opt/conda/envs/Python-3.9-CUDA/lib/python3.9/site-packages (from transformers<5.0.0,>=4.6.0->sentence-transformers) (2021.11.2)\nRequirement already satisfied: joblib in /opt/conda/envs/Python-3.9-CUDA/lib/python3.9/site-packages (from nltk->sentence-transformers) (0.17.0)\nRequirement already satisfied: click in /opt/conda/envs/Python-3.9-CUDA/lib/python3.9/site-packages (from nltk->sentence-transformers) (8.0.4)\nRequirement already satisfied: idna<4,>=2.5 in /opt/conda/envs/Python-3.9-CUDA/lib/python3.9/site-packages (from requests->huggingface-hub>=0.4.0->sentence-transformers) (3.3)\nRequirement already satisfied: urllib3<1.27,>=1.21.1 in /opt/conda/envs/Python-3.9-CUDA/lib/python3.9/site-packages (from requests->huggingface-hub>=0.4.0->sentence-transformers) (1.26.7)\nRequirement already satisfied: certifi>=2017.4.17 in /opt/conda/envs/Python-3.9-CUDA/lib/python3.9/site-packages (from requests->huggingface-hub>=0.4.0->sentence-transformers) (2022.12.7)\nRequirement already satisfied: charset-normalizer~=2.0.0 in /opt/conda/envs/Python-3.9-CUDA/lib/python3.9/site-packages (from requests->huggingface-hub>=0.4.0->sentence-transformers) (2.0.4)\nRequirement already satisfied: six in /opt/conda/envs/Python-3.9-CUDA/lib/python3.9/site-packages (from sacremoses->transformers<5.0.0,>=4.6.0->sentence-transformers) (1.15.0)\nRequirement already satisfied: threadpoolctl>=2.0.0 in /opt/conda/envs/Python-3.9-CUDA/lib/python3.9/site-packages (from scikit-learn->sentence-transformers) (2.2.0)\nRequirement already satisfied: pillow!=8.3.0,>=5.3.0 in /opt/conda/envs/Python-3.9-CUDA/lib/python3.9/site-packages (from torchvision->sentence-transformers) (9.0.1)\nNote: you may need to restart the kernel to use updated packages.\n",
          "name": "stdout"
        }
      ]
    },
    {
      "metadata": {
        "id": "mzTYOsLYY61h",
        "outputId": "6b984315-9845-4d7e-d6ce-fa59946eed80"
      },
      "cell_type": "code",
      "source": [
        "pip install nltk #instalar nltk"
      ],
      "execution_count": null,
      "outputs": [
        {
          "output_type": "stream",
          "text": "Requirement already satisfied: nltk in /opt/conda/envs/Python-3.9-CUDA/lib/python3.9/site-packages (3.8.1)\nRequirement already satisfied: regex>=2021.8.3 in /opt/conda/envs/Python-3.9-CUDA/lib/python3.9/site-packages (from nltk) (2021.11.2)\nRequirement already satisfied: tqdm in /opt/conda/envs/Python-3.9-CUDA/lib/python3.9/site-packages (from nltk) (4.62.3)\nRequirement already satisfied: click in /opt/conda/envs/Python-3.9-CUDA/lib/python3.9/site-packages (from nltk) (8.0.4)\nRequirement already satisfied: joblib in /opt/conda/envs/Python-3.9-CUDA/lib/python3.9/site-packages (from nltk) (0.17.0)\nNote: you may need to restart the kernel to use updated packages.\n",
          "name": "stdout"
        }
      ]
    },
    {
      "metadata": {
        "id": "WtijhSYhY61i"
      },
      "cell_type": "code",
      "source": [
        "from sentence_transformers import SentenceTransformer, util #se importan\n",
        "import nltk #se importa"
      ],
      "execution_count": null,
      "outputs": []
    },
    {
      "metadata": {
        "id": "11SR__wzY61i"
      },
      "cell_type": "code",
      "source": [
        "#### MODELO PARA VECTORIZAR LOS TEXTOS\n",
        "#https://github.com/UKPLab/sentence-transformers\n",
        "model = SentenceTransformer('hiiamsid/sentence_similarity_spanish_es')"
      ],
      "execution_count": null,
      "outputs": []
    },
    {
      "metadata": {
        "id": "nDl8d6A8Y61j"
      },
      "cell_type": "code",
      "source": [
        "import io\n",
        "\n",
        "\n",
        "\n",
        "def generarExcel(listaDfs,listaPestaniasExcel,nombreArchivo):\n",
        "\n",
        "    #se genera un excel y se exporta al ICOS.\n",
        "    #listaDfs tiene que coincidir (en tamaño) con listaPestaniasExcel ya que cada pestaña va a contener cada DF.\n",
        "    #nombreArchivo es el del Excel\n",
        "    \n",
        "    output = io.BytesIO()\n",
        "    writer = pd.ExcelWriter(output, engine='xlsxwriter')\n",
        "    \n",
        "    for dff, pest in zip(listaDfs, listaPestaniasExcel):\n",
        "        dff.to_excel(writer,sheet_name=pest,index=False)\n",
        "        \n",
        "    for i,x in zip(writer.sheets.keys(),listaDfs ):\n",
        "        # Get the xlsxwriter workbook and worksheet objects.\n",
        "        workbook = writer.book\n",
        "        worksheet = writer.sheets[i]\n",
        "\n",
        "        # Get the dimensions of the dataframe.\n",
        "        (max_row, max_col) = x.shape\n",
        "\n",
        "        # Create a list of column headers, to use in add_table().\n",
        "        column_settings = [{'header': column} for column in x.columns]\n",
        "\n",
        "        # Add the Excel table structure. Pandas will add the data.\n",
        "        worksheet.add_table(0, 0, max_row, max_col - 1, {'columns': column_settings})\n",
        "\n",
        "        # Make the columns wider for clarity.\n",
        "        worksheet.set_column(0, max_col - 1, 12)\n",
        "        \n",
        "        # Wrap text for the headers\n",
        "        header_format = workbook.add_format({'text_wrap': True, 'align': 'center', 'valign': 'vcenter'})\n",
        "        worksheet.set_row(0, None, header_format)\n",
        "\n",
        "        # Create a format object to use in the conditional formatting.\n",
        "        numeric_cell_format = workbook.add_format({'align': 'center'})\n",
        "        text_cell_format = workbook.add_format({'align': 'left'})\n",
        "\n",
        "        # Apply conditional formatting to each cell in the table.\n",
        "        for row in range(max_row):\n",
        "            for col in range(max_col):\n",
        "                # If the length of the cell text is greater than 16, apply the text wrap format.\n",
        "                # Otherwise, apply the text center format.\n",
        "                if len(str(x.iat[row, col])) > 16:\n",
        "                    worksheet.write(row + 1, col, x.iat[row, col], text_cell_format)\n",
        "                else:\n",
        "                    worksheet.write(row + 1, col, x.iat[row, col], numeric_cell_format)\n",
        "        \n",
        "    # Close the Pandas Excel writer and output the Excel file.\n",
        "    writer.save()\n",
        "\n",
        "    xlsx_data = output.getvalue()\n",
        "\n",
        "    #falta linea para exportar\n",
        "    \n",
        "    \n",
        "# limpiar puntuaciones y stopwords\n",
        "punctuation = string.punctuation + \"«»“”‘’…—\" #se definen signos de puntuación para poder borrar de los textos\n",
        "\n",
        "def normalize(s): \n",
        "    replacements = (\n",
        "        (\"á\", \"a\"),\n",
        "        (\"é\", \"e\"),\n",
        "        (\"í\", \"i\"),\n",
        "        (\"ó\", \"o\"),\n",
        "        (\"ú\", \"u\"),\n",
        "    )\n",
        "    for a, b in replacements: #se sacan los tildes\n",
        "        s = s.replace(a, b).replace(a.upper(), b.upper())\n",
        "        \n",
        "    s = s.translate(str.maketrans('', '', punctuation)).lower()#.split() #se sacan los signos de puntuación\n",
        "    \n",
        "    return s\n",
        "\n",
        "def buscarUtterancesSimilares(df_1, df_2,nombreColumnaTexto,nombreColumnaIntencion):\n",
        "    print(f\"Empieza {datetime.now()}\")\n",
        "    todo = []\n",
        "    b = df_1.FCD_COG_INPUT_TEXT.to_list()\n",
        "    X = model.encode(b)\n",
        "    for index in df_2.index:    \n",
        "        sentence__ = model.encode(df_2[nombreColumnaTexto].iloc[index]) #se vectoriza el utterance\n",
        "\n",
        "        cos_sim = util.cos_sim(sentence__, X) #se compara un determinado utterance con todos los del dataset. Cuando el resultado es cercano a 1 (comparando dos utterances) eso significa que son similares\n",
        "\n",
        "        winners = []\n",
        "        for arr in cos_sim: #se recorre cada resultado y se guarda en una lista, también la utterance\n",
        "            for i, each_val in enumerate(arr):\n",
        "                if each_val >= 0.70:\n",
        "                    winners.append([b[i],each_val.item(),df_1.index[i],df_1.FCD_COG_CONTEXT_CALL_ID.iloc[i],df_1.FCD_COG_CONTEXT_CALLREASON.iloc[i],df_2[nombreColumnaTexto].iloc[index],df_2[nombreColumnaIntencion].iloc[index]]) \n",
        "\n",
        "        todo = todo + winners\n",
        "\n",
        "\n",
        "    utterancesEntrar=pd.DataFrame(todo) #se transforma la lista a df\n",
        "    utterancesEntrar.rename(columns={1:\"similitud\",0:\"utterance\",3:\"callId\",4:\"Intecion Inicial\",5:\"similar a\",6:\"intencionDelUtteranceOriginal\"},inplace=True) #nombre de columnas\n",
        "    mayor_similitud=pd.DataFrame(utterancesEntrar.groupby([\"callId\",\"utterance\"])[\"similitud\"].max()).reset_index().copy() #cuando un utterance se repite, se selecciona el de mayor similitud\n",
        "    utterancesEntrar=pd.merge(mayor_similitud, utterancesEntrar, left_on=[\"callId\",\"utterance\",\"similitud\"], right_on=[\"callId\",\"utterance\",\"similitud\"],how=\"left\") \n",
        "    utteranceNoEntrar=df_1[~ df_1.index.isin(utterancesEntrar[2])].copy() #los utterances que no tienen similitud con ninguno de entrenamiento\n",
        "    \n",
        "    print(f\"Termina {datetime.now()}\")\n",
        "    \n",
        "    return utterancesEntrar, utteranceNoEntrar"
      ],
      "execution_count": null,
      "outputs": []
    },
    {
      "cell_type": "code",
      "source": [
        "#se trae el archivo sobre el cual se quieren buscar utterances\n",
        "utterancesProdd = project_actual.get_file(archivo_csv_importar_) \n",
        "utterancesProdd = pd.read_csv(utterancesProdd)\n",
        "\n",
        "utterancesProdd[nombreColumnaTexto_] = utterancesProdd[nombreColumnaTexto_].apply(lambda x: normalize(x)) #se normalizan"
      ],
      "metadata": {
        "id": "bT5eGjDBZX7u"
      },
      "execution_count": null,
      "outputs": []
    },
    {
      "metadata": {
        "id": "8cpTGuteY61o"
      },
      "cell_type": "code",
      "source": [
        "#se trae el archivo que contiene los utterances de los cuales se quiere buscar similares\n",
        "utterances = project_actual.get_file(archivo_csv_importar) \n",
        "utterances = pd.read_csv(utterances)\n",
        "\n",
        "utterances[nombreColumnaTexto] = utterances[nombreColumnaTexto].apply(lambda x: normalize(x)) #se normalizan"
      ],
      "execution_count": null,
      "outputs": []
    },
    {
      "metadata": {
        "id": "Dyft4XxFY61p",
        "outputId": "a6b50ac0-4aef-46a1-e279-18c70b7748d1"
      },
      "cell_type": "code",
      "source": [
        "utterancesSimilares, utteranceNoSimilares = buscarUtterancesSimilares(utterancesProdd,utterances,nombreColumnaTexto,nombreColumnaIntencion)\n",
        "#se realiza la búsqueda para encontrar los similares"
      ],
      "execution_count": null,
      "outputs": [
        {
          "output_type": "stream",
          "text": "Empieza 2023-02-07 18:25:00.437538\nTermina 2023-02-07 18:28:14.155548\n",
          "name": "stdout"
        }
      ]
    },
    {
      "metadata": {
        "id": "lOlYYimvY61q",
        "outputId": "632e46e8-fa25-496e-97ae-efc152b0fce4"
      },
      "cell_type": "code",
      "source": [
        "utterancesSimilares.drop(columns=[2],inplace=True) #se dropea una columna que está de más\n",
        "\n",
        "utterancesSimilares.drop_duplicates(inplace=True) #se dropean los duplicados\n",
        "\n",
        "utterancesSimilares.reset_index(inplace=True) #se resetea el índice\n",
        "\n",
        "utterancesSimilares['similitud'] = utterancesSimilares['similitud'].round(3) #se redondea el valor de similitud a 3 decimales\n",
        "\n",
        "utterancesSimilares #se printea"
      ],
      "execution_count": null,
      "outputs": [
        {
          "output_type": "execute_result",
          "execution_count": 15,
          "data": {
            "text/plain": "      index                            callId  \\\n0         0  6RC968IHND58FFBIU6QUILASR001936L   \n1         1  6RC968IHND58FFBIU6QUILASR001936L   \n2         2  6RC968IHND58FFBIU6QUILASR00193SF   \n3         3  6RC968IHND58FFBIU6QUILASR001953K   \n4         4  6RC968IHND58FFBIU6QUILASR001953K   \n...     ...                               ...   \n1048   1079  I4LAOTSU0P4CHA2QJ3L16PP3VK02272J   \n1049   1080  I4LAOTSU0P4CHA2QJ3L16PP3VK02287V   \n1050   1081  I4LAOTSU0P4CHA2QJ3L16PP3VK02287V   \n1051   1082  I4LAOTSU0P4CHA2QJ3L16PP3VK0228G3   \n1052   1083  I4LAOTSU0P4CHA2QJ3L16PP3VK0229B5   \n\n                                                                                                         utterance  \\\n0                                                                                      informacion de portabilidad   \n1                                                                                            portabilidad numerica   \n2                                                                quiero hacer el cambio de planes del del telefono   \n3                                                            necesito pasar eh un numero de telefono a un personal   \n4     si quiero volver a tener linea eh llamaba para pedir la linea de nuevo no es de este telefono de otro numero   \n...                                                                                                            ...   \n1048                      queria este saber si se puede hacer la localizacion de un numero de telefono de personal   \n1049                                                                                   cambiar de linea a personal   \n1050                                                                 queria saber para pasar otra linea a personal   \n1051                       si quiero una promocion con gigas con mas digas si es factible hoy a cambiar de empresa   \n1052                     queria ver si podia cambiar el numero de telefono porque tengo un problema con ese numero   \n\n      similitud Intecion Inicial  \\\n0         0.771                -   \n1         0.761                -   \n2         0.723                -   \n3         0.707                -   \n4         0.704                -   \n...         ...              ...   \n1048      0.709                -   \n1049      0.741                -   \n1050      0.774                -   \n1051      0.705  IR_portabilidad   \n1052      0.708                -   \n\n                                                                      similar a  \\\n0                              consultar como es la portabilidad en la compañia   \n1                                   como puedo hablar con portabilidad numerica   \n2                                        quiero cambiar de compañia de telefono   \n3     queria saber si se puede pasar un numero de personal a un numero de claro   \n4                                          llamo porque quiero cambiar mi linea   \n...                                                                         ...   \n1048  queria saber si se puede pasar un numero de personal a un numero de claro   \n1049                               queria cambiar un numero de claro a personal   \n1050  queria saber si se puede pasar un numero de personal a un numero de claro   \n1051      me paso a otra compañia porque me ofrecen planes mucho mas economicos   \n1052                                     quiero cambiar de compañia de telefono   \n\n     intencionDelUtteranceOriginal  \n0                     portabilidad  \n1                     portabilidad  \n2                     portabilidad  \n3                     portabilidad  \n4                     portabilidad  \n...                            ...  \n1048                  portabilidad  \n1049                  portabilidad  \n1050                  portabilidad  \n1051                  portabilidad  \n1052                  portabilidad  \n\n[1053 rows x 7 columns]",
            "text/html": "<div>\n<style scoped>\n    .dataframe tbody tr th:only-of-type {\n        vertical-align: middle;\n    }\n\n    .dataframe tbody tr th {\n        vertical-align: top;\n    }\n\n    .dataframe thead th {\n        text-align: right;\n    }\n</style>\n<table border=\"1\" class=\"dataframe\">\n  <thead>\n    <tr style=\"text-align: right;\">\n      <th></th>\n      <th>index</th>\n      <th>callId</th>\n      <th>utterance</th>\n      <th>similitud</th>\n      <th>Intecion Inicial</th>\n      <th>similar a</th>\n      <th>intencionDelUtteranceOriginal</th>\n    </tr>\n  </thead>\n  <tbody>\n    <tr>\n      <th>0</th>\n      <td>0</td>\n      <td>6RC968IHND58FFBIU6QUILASR001936L</td>\n      <td>informacion de portabilidad</td>\n      <td>0.771</td>\n      <td>-</td>\n      <td>consultar como es la portabilidad en la compañia</td>\n      <td>portabilidad</td>\n    </tr>\n    <tr>\n      <th>1</th>\n      <td>1</td>\n      <td>6RC968IHND58FFBIU6QUILASR001936L</td>\n      <td>portabilidad numerica</td>\n      <td>0.761</td>\n      <td>-</td>\n      <td>como puedo hablar con portabilidad numerica</td>\n      <td>portabilidad</td>\n    </tr>\n    <tr>\n      <th>2</th>\n      <td>2</td>\n      <td>6RC968IHND58FFBIU6QUILASR00193SF</td>\n      <td>quiero hacer el cambio de planes del del telefono</td>\n      <td>0.723</td>\n      <td>-</td>\n      <td>quiero cambiar de compañia de telefono</td>\n      <td>portabilidad</td>\n    </tr>\n    <tr>\n      <th>3</th>\n      <td>3</td>\n      <td>6RC968IHND58FFBIU6QUILASR001953K</td>\n      <td>necesito pasar eh un numero de telefono a un personal</td>\n      <td>0.707</td>\n      <td>-</td>\n      <td>queria saber si se puede pasar un numero de personal a un numero de claro</td>\n      <td>portabilidad</td>\n    </tr>\n    <tr>\n      <th>4</th>\n      <td>4</td>\n      <td>6RC968IHND58FFBIU6QUILASR001953K</td>\n      <td>si quiero volver a tener linea eh llamaba para pedir la linea de nuevo no es de este telefono de otro numero</td>\n      <td>0.704</td>\n      <td>-</td>\n      <td>llamo porque quiero cambiar mi linea</td>\n      <td>portabilidad</td>\n    </tr>\n    <tr>\n      <th>...</th>\n      <td>...</td>\n      <td>...</td>\n      <td>...</td>\n      <td>...</td>\n      <td>...</td>\n      <td>...</td>\n      <td>...</td>\n    </tr>\n    <tr>\n      <th>1048</th>\n      <td>1079</td>\n      <td>I4LAOTSU0P4CHA2QJ3L16PP3VK02272J</td>\n      <td>queria este saber si se puede hacer la localizacion de un numero de telefono de personal</td>\n      <td>0.709</td>\n      <td>-</td>\n      <td>queria saber si se puede pasar un numero de personal a un numero de claro</td>\n      <td>portabilidad</td>\n    </tr>\n    <tr>\n      <th>1049</th>\n      <td>1080</td>\n      <td>I4LAOTSU0P4CHA2QJ3L16PP3VK02287V</td>\n      <td>cambiar de linea a personal</td>\n      <td>0.741</td>\n      <td>-</td>\n      <td>queria cambiar un numero de claro a personal</td>\n      <td>portabilidad</td>\n    </tr>\n    <tr>\n      <th>1050</th>\n      <td>1081</td>\n      <td>I4LAOTSU0P4CHA2QJ3L16PP3VK02287V</td>\n      <td>queria saber para pasar otra linea a personal</td>\n      <td>0.774</td>\n      <td>-</td>\n      <td>queria saber si se puede pasar un numero de personal a un numero de claro</td>\n      <td>portabilidad</td>\n    </tr>\n    <tr>\n      <th>1051</th>\n      <td>1082</td>\n      <td>I4LAOTSU0P4CHA2QJ3L16PP3VK0228G3</td>\n      <td>si quiero una promocion con gigas con mas digas si es factible hoy a cambiar de empresa</td>\n      <td>0.705</td>\n      <td>IR_portabilidad</td>\n      <td>me paso a otra compañia porque me ofrecen planes mucho mas economicos</td>\n      <td>portabilidad</td>\n    </tr>\n    <tr>\n      <th>1052</th>\n      <td>1083</td>\n      <td>I4LAOTSU0P4CHA2QJ3L16PP3VK0229B5</td>\n      <td>queria ver si podia cambiar el numero de telefono porque tengo un problema con ese numero</td>\n      <td>0.708</td>\n      <td>-</td>\n      <td>quiero cambiar de compañia de telefono</td>\n      <td>portabilidad</td>\n    </tr>\n  </tbody>\n</table>\n<p>1053 rows × 7 columns</p>\n</div>"
          },
          "metadata": {}
        }
      ]
    },
    {
      "metadata": {
        "id": "3u_dkJvDY61r"
      },
      "cell_type": "code",
      "source": [
        "# generarExcel([utterancesSimilares,utterancesSimilares],[\"a\",\"b\"],\"prueba\") #por si se quiere exportar con formato de tabla dinámica "
      ],
      "execution_count": null,
      "outputs": []
    },
    {
      "metadata": {
        "id": "Z8Jtf5JiY61r"
      },
      "cell_type": "code",
      "source": [],
      "execution_count": null,
      "outputs": []
    }
  ],
  "metadata": {
    "kernelspec": {
      "name": "python3",
      "display_name": "Python 3.9 + GPU",
      "language": "python"
    },
    "language_info": {
      "name": "python",
      "version": "3.9.13",
      "mimetype": "text/x-python",
      "codemirror_mode": {
        "name": "ipython",
        "version": 3
      },
      "pygments_lexer": "ipython3",
      "nbconvert_exporter": "python",
      "file_extension": ".py"
    },
    "colab": {
      "provenance": []
    }
  },
  "nbformat": 4,
  "nbformat_minor": 0
}